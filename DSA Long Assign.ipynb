{
 "cells": [
  {
   "cell_type": "code",
   "execution_count": null,
   "id": "0fc4b062-23cd-4852-b1d3-a5e63b378b9c",
   "metadata": {},
   "outputs": [],
   "source": [
    "1. Write a Python program to reverse a string without using any built-in string reversal functions."
   ]
  },
  {
   "cell_type": "code",
   "execution_count": 1,
   "id": "7e276d7b-a9d7-4413-8b4e-ba8134bd5266",
   "metadata": {},
   "outputs": [
    {
     "name": "stdin",
     "output_type": "stream",
     "text": [
      "Enter a string:  Ajit\n"
     ]
    },
    {
     "name": "stdout",
     "output_type": "stream",
     "text": [
      "Reversed string: tijA\n"
     ]
    }
   ],
   "source": [
    "def reverse_string(input_string):\n",
    "    reversed_string = \"\"\n",
    "    for i in range(len(input_string) - 1, -1, -1):\n",
    "        reversed_string += input_string[i]\n",
    "    return reversed_string\n",
    "\n",
    "# Example usage\n",
    "input_str = input(\"Enter a string: \")\n",
    "reversed_str = reverse_string(input_str)\n",
    "print(\"Reversed string:\", reversed_str)\n"
   ]
  },
  {
   "cell_type": "code",
   "execution_count": null,
   "id": "de3a9f09-e6c0-464e-9745-eb7dfc14c55b",
   "metadata": {},
   "outputs": [],
   "source": [
    "2. Implement a function to check if a given string is a palindrome.\n"
   ]
  },
  {
   "cell_type": "code",
   "execution_count": 2,
   "id": "05c85a3a-aa32-47f0-93f0-a596215907cd",
   "metadata": {},
   "outputs": [],
   "source": [
    "def is_palindrome(string):\n",
    "    # Remove any whitespace and convert to lowercase\n",
    "    string = string.replace(\" \", \"\").lower()\n",
    "    \n",
    "    # Check if the string is equal to its reverse\n",
    "    return string == string[::-1]\n"
   ]
  },
  {
   "cell_type": "code",
   "execution_count": 3,
   "id": "e27e04d4-4f97-46b9-a62d-7a8cadf3ff8a",
   "metadata": {},
   "outputs": [
    {
     "name": "stdout",
     "output_type": "stream",
     "text": [
      "True\n",
      "True\n",
      "True\n",
      "False\n",
      "False\n"
     ]
    }
   ],
   "source": [
    "print(is_palindrome(\"radar\"))       # True\n",
    "print(is_palindrome(\"level\"))       # True\n",
    "print(is_palindrome(\"A man a plan a canal Panama\"))  # True\n",
    "print(is_palindrome(\"hello\"))       # False\n",
    "print(is_palindrome(\"world\"))       # False\n"
   ]
  },
  {
   "cell_type": "code",
   "execution_count": null,
   "id": "664d1738-013b-4988-b8da-841b5cf13a9f",
   "metadata": {},
   "outputs": [],
   "source": [
    "3. Write a program to find the largest element in a given list.\n"
   ]
  },
  {
   "cell_type": "code",
   "execution_count": 8,
   "id": "07165be2-3057-4e58-b555-34af830f4648",
   "metadata": {},
   "outputs": [],
   "source": [
    "def find_largest_element(lst):\n",
    "    if not lst:  # If the list is empty\n",
    "        return None\n",
    "    \n",
    "    largest = max(lst)\n",
    "    return largest\n"
   ]
  },
  {
   "cell_type": "code",
   "execution_count": 9,
   "id": "78c023c2-4d2c-49d2-a461-0c032056700f",
   "metadata": {},
   "outputs": [
    {
     "name": "stdout",
     "output_type": "stream",
     "text": [
      "The largest element is: 22\n"
     ]
    }
   ],
   "source": [
    "my_list = [10, 4, 22, 15, 8, 20]\n",
    "largest_element = find_largest_element(my_list)\n",
    "print(\"The largest element is:\", largest_element)\n"
   ]
  },
  {
   "cell_type": "code",
   "execution_count": null,
   "id": "3c2d3274-d2e2-485a-951a-8e52d8a012a2",
   "metadata": {},
   "outputs": [],
   "source": [
    "4. Implement a function to count the occurrence of each element in a list."
   ]
  },
  {
   "cell_type": "code",
   "execution_count": 10,
   "id": "a2b4b3f3-4990-4459-9756-ded17961c998",
   "metadata": {},
   "outputs": [],
   "source": [
    "def count_occurrences(lst):\n",
    "    counts = {}\n",
    "    for item in lst:\n",
    "        if item in counts:\n",
    "            counts[item] += 1\n",
    "        else:\n",
    "            counts[item] = 1\n",
    "    return counts\n"
   ]
  },
  {
   "cell_type": "code",
   "execution_count": 11,
   "id": "52926bd6-eabc-4657-b932-c0773cee4d0c",
   "metadata": {},
   "outputs": [
    {
     "name": "stdout",
     "output_type": "stream",
     "text": [
      "{1: 4, 2: 2, 3: 2, 4: 3, 5: 1}\n"
     ]
    }
   ],
   "source": [
    "my_list = [1, 2, 3, 2, 1, 3, 1, 1, 4, 5, 4, 4]\n",
    "result = count_occurrences(my_list)\n",
    "print(result)\n"
   ]
  },
  {
   "cell_type": "code",
   "execution_count": null,
   "id": "4492b2a3-0e91-40d4-a3d5-ef83a3a75899",
   "metadata": {},
   "outputs": [],
   "source": [
    "5. Write a Python program to find the second largest number in a list."
   ]
  },
  {
   "cell_type": "code",
   "execution_count": 12,
   "id": "70ba8791-2dd2-4771-a2f9-f51c1b1344e2",
   "metadata": {},
   "outputs": [
    {
     "name": "stdout",
     "output_type": "stream",
     "text": [
      "Second largest number: 15\n"
     ]
    }
   ],
   "source": [
    "def find_second_largest(numbers):\n",
    "    if len(numbers) < 2:\n",
    "        return \"List should have at least two numbers\"\n",
    "\n",
    "    largest = float('-inf')\n",
    "    second_largest = float('-inf')\n",
    "\n",
    "    for num in numbers:\n",
    "        if num > largest:\n",
    "            second_largest = largest\n",
    "            largest = num\n",
    "        elif num > second_largest and num != largest:\n",
    "            second_largest = num\n",
    "\n",
    "    if second_largest == float('-inf'):\n",
    "        return \"There is no second largest number\"\n",
    "    else:\n",
    "        return second_largest\n",
    "\n",
    "\n",
    "# Example usage\n",
    "num_list = [10, 5, 8, 20, 15]\n",
    "result = find_second_largest(num_list)\n",
    "print(\"Second largest number:\", result)\n"
   ]
  },
  {
   "cell_type": "code",
   "execution_count": null,
   "id": "63cec715-d373-423b-b81f-1847baa730b4",
   "metadata": {},
   "outputs": [],
   "source": [
    "6. Implement a function to remove duplicate elements from a list."
   ]
  },
  {
   "cell_type": "code",
   "execution_count": 13,
   "id": "14a72ebe-747a-4d3d-b733-3533c63c58b8",
   "metadata": {},
   "outputs": [
    {
     "name": "stdout",
     "output_type": "stream",
     "text": [
      "List without duplicates: [1, 2, 3, 4, 5, 6]\n"
     ]
    }
   ],
   "source": [
    "def remove_duplicates(lst):\n",
    "    return list(set(lst))\n",
    "\n",
    "\n",
    "# Example usage\n",
    "num_list = [1, 2, 3, 3, 4, 5, 5, 6]\n",
    "result = remove_duplicates(num_list)\n",
    "print(\"List without duplicates:\", result)\n"
   ]
  },
  {
   "cell_type": "code",
   "execution_count": null,
   "id": "de112989-2c80-45f8-9ee6-42bffaaeb9f9",
   "metadata": {},
   "outputs": [],
   "source": [
    "7. Write a program to calculate the factorial of a given number.\n"
   ]
  },
  {
   "cell_type": "code",
   "execution_count": 14,
   "id": "63b12200-9493-4294-b39b-f38c0e3d1bdc",
   "metadata": {},
   "outputs": [
    {
     "name": "stdin",
     "output_type": "stream",
     "text": [
      "Enter a number:  5\n"
     ]
    },
    {
     "name": "stdout",
     "output_type": "stream",
     "text": [
      "The factorial of 5 is 120\n"
     ]
    }
   ],
   "source": [
    "def factorial(n):\n",
    "    if n == 0:\n",
    "        return 1\n",
    "    else:\n",
    "        return n * factorial(n - 1)\n",
    "\n",
    "# Get the input from the user\n",
    "number = int(input(\"Enter a number: \"))\n",
    "\n",
    "# Check if the number is negative\n",
    "if number < 0:\n",
    "    print(\"Factorial cannot be calculated for negative numbers.\")\n",
    "else:\n",
    "    result = factorial(number)\n",
    "    print(\"The factorial of\", number, \"is\", result)\n"
   ]
  },
  {
   "cell_type": "code",
   "execution_count": null,
   "id": "90aa9140-1856-4e37-93ea-47f241ba6096",
   "metadata": {},
   "outputs": [],
   "source": [
    "8. Implement a function to check if a given number is prime"
   ]
  },
  {
   "cell_type": "code",
   "execution_count": 15,
   "id": "8b0042b4-6bcb-45c9-ae02-df439c7ddbf3",
   "metadata": {},
   "outputs": [],
   "source": [
    "import math\n",
    "\n",
    "def is_prime(number):\n",
    "    if number <= 1:\n",
    "        return False\n",
    "\n",
    "    # Check for divisibility up to the square root of the number\n",
    "    sqrt = int(math.sqrt(number)) + 1\n",
    "    for divisor in range(2, sqrt):\n",
    "        if number % divisor == 0:\n",
    "            return False\n",
    "\n",
    "    return True\n"
   ]
  },
  {
   "cell_type": "code",
   "execution_count": 16,
   "id": "788515a5-78ba-45e9-a633-6465e2d2371c",
   "metadata": {},
   "outputs": [
    {
     "name": "stdout",
     "output_type": "stream",
     "text": [
      "True\n",
      "False\n",
      "True\n",
      "False\n"
     ]
    }
   ],
   "source": [
    "print(is_prime(7))    # Output: True\n",
    "print(is_prime(16))   # Output: False\n",
    "print(is_prime(23))   # Output: True\n",
    "print(is_prime(1))    # Output: False\n"
   ]
  },
  {
   "cell_type": "code",
   "execution_count": null,
   "id": "88c22bb2-e0d5-4cdf-8de1-7cc9d3e1110d",
   "metadata": {},
   "outputs": [],
   "source": [
    "9. Write a Python program to sort a list of integers in ascending order.\n"
   ]
  },
  {
   "cell_type": "code",
   "execution_count": 17,
   "id": "11efb5a5-67bb-435f-b72f-099a02f381ff",
   "metadata": {},
   "outputs": [
    {
     "name": "stdout",
     "output_type": "stream",
     "text": [
      "[1, 2, 5, 7, 9]\n"
     ]
    }
   ],
   "source": [
    "def sort_list_ascending(numbers):\n",
    "    numbers.sort()\n",
    "\n",
    "# Example usage:\n",
    "my_list = [5, 2, 9, 1, 7]\n",
    "sort_list_ascending(my_list)\n",
    "print(my_list)  # Output: [1, 2, 5, 7, 9]\n"
   ]
  },
  {
   "cell_type": "code",
   "execution_count": null,
   "id": "fdba3ec1-07d1-4e80-97ab-477c795a60ca",
   "metadata": {},
   "outputs": [],
   "source": [
    "10. Implement a function to find the sum of all numbers in a list.\n"
   ]
  },
  {
   "cell_type": "code",
   "execution_count": 18,
   "id": "2890d87e-a886-4628-8fef-2f982ac74ef0",
   "metadata": {},
   "outputs": [],
   "source": [
    "def find_sum(numbers):\n",
    "    total = 0\n",
    "    for num in numbers:\n",
    "        total += num\n",
    "    return total\n"
   ]
  },
  {
   "cell_type": "code",
   "execution_count": 19,
   "id": "dec8e7dd-b512-4172-b857-f9b63ed547ac",
   "metadata": {},
   "outputs": [
    {
     "name": "stdout",
     "output_type": "stream",
     "text": [
      "15\n"
     ]
    }
   ],
   "source": [
    "my_list = [1, 2, 3, 4, 5]\n",
    "result = find_sum(my_list)\n",
    "print(result)  # Output: 15\n"
   ]
  },
  {
   "cell_type": "code",
   "execution_count": null,
   "id": "a451152a-1a0e-47eb-bef7-86fbfab73984",
   "metadata": {},
   "outputs": [],
   "source": [
    "11. Write a program to find the common elements between two lists.\n"
   ]
  },
  {
   "cell_type": "code",
   "execution_count": 20,
   "id": "79228af3-6908-4a5c-a142-f02b9b19ca27",
   "metadata": {},
   "outputs": [
    {
     "name": "stdout",
     "output_type": "stream",
     "text": [
      "Common elements: [4, 5]\n"
     ]
    }
   ],
   "source": [
    "def find_common_elements(list1, list2):\n",
    "    common_elements = []\n",
    "    for element in list1:\n",
    "        if element in list2:\n",
    "            common_elements.append(element)\n",
    "    return common_elements\n",
    "\n",
    "# Example usage:\n",
    "list1 = [1, 2, 3, 4, 5]\n",
    "list2 = [4, 5, 6, 7, 8]\n",
    "common_elements = find_common_elements(list1, list2)\n",
    "print(\"Common elements:\", common_elements)\n"
   ]
  },
  {
   "cell_type": "code",
   "execution_count": null,
   "id": "0c92ccc2-dd8e-4756-95e5-ec1d24cc2cca",
   "metadata": {},
   "outputs": [],
   "source": [
    "12. Implement a function to check if a given string is an anagram of another string.\n"
   ]
  },
  {
   "cell_type": "code",
   "execution_count": 22,
   "id": "d7fa382b-e022-45a5-b285-efc35294ef03",
   "metadata": {},
   "outputs": [],
   "source": [
    "def is_anagram(str1, str2):\n",
    "    # Remove whitespaces and convert both strings to lowercase\n",
    "    str1 = str1.replace(\" \", \"\").lower()\n",
    "    str2 = str2.replace(\" \", \"\").lower()\n",
    "\n",
    "    # Check if the lengths of the strings are equal\n",
    "    if len(str1) != len(str2):\n",
    "        return False\n",
    "\n",
    "    # Create dictionaries to count the frequency of characters in each string\n",
    "    char_count1 = {}\n",
    "    char_count2 = {}\n",
    "\n",
    "    # Count the frequency of characters in str1\n",
    "    for char in str1:\n",
    "        char_count1[char] = char_count1.get(char, 0) + 1\n",
    "\n",
    "    # Count the frequency of characters in str2\n",
    "    for char in str2:\n",
    "        char_count2[char] = char_count2.get(char, 0) + 1\n",
    "\n",
    "    # Compare the dictionaries\n",
    "    return char_count1 == char_count2\n"
   ]
  },
  {
   "cell_type": "code",
   "execution_count": 23,
   "id": "15fbb3dd-70ea-4cf8-bbd6-abfbfb78cdde",
   "metadata": {},
   "outputs": [
    {
     "name": "stdout",
     "output_type": "stream",
     "text": [
      "True\n",
      "True\n",
      "False\n"
     ]
    }
   ],
   "source": [
    "string1 = \"listen\"\n",
    "string2 = \"silent\"\n",
    "print(is_anagram(string1, string2))  # Output: True\n",
    "\n",
    "string3 = \"Eleven plus two\"\n",
    "string4 = \"Twelve plus one\"\n",
    "print(is_anagram(string3, string4))  # Output: True\n",
    "\n",
    "string5 = \"OpenAI\"\n",
    "string6 = \"AI is open\"\n",
    "print(is_anagram(string5, string6))  # Output: False\n"
   ]
  },
  {
   "cell_type": "code",
   "execution_count": null,
   "id": "50ba5dd1-ccde-4f42-8ee6-f61a67e743c6",
   "metadata": {},
   "outputs": [],
   "source": [
    "13. Write a Python program to generate all permutations of a given string.\n"
   ]
  },
  {
   "cell_type": "code",
   "execution_count": 24,
   "id": "6257b00f-2f67-4f8f-bb53-0c4499e20894",
   "metadata": {},
   "outputs": [
    {
     "name": "stdout",
     "output_type": "stream",
     "text": [
      "abc\n",
      "acb\n",
      "bac\n",
      "bca\n",
      "cab\n",
      "cba\n"
     ]
    }
   ],
   "source": [
    "def permutations(string):\n",
    "    # Base case: if the string is empty, return an empty list\n",
    "    if len(string) == 0:\n",
    "        return []\n",
    "\n",
    "    # Base case: if the string has only one character, return the string itself as a list\n",
    "    if len(string) == 1:\n",
    "        return [string]\n",
    "\n",
    "    # Recursive case: generate permutations by selecting each character as the first character\n",
    "    # and permuting the remaining characters recursively\n",
    "    result = []  # List to store the permutations\n",
    "\n",
    "    for i in range(len(string)):\n",
    "        first_char = string[i]\n",
    "        remaining_chars = string[:i] + string[i+1:]\n",
    "        # Recursively generate permutations of the remaining characters\n",
    "        for perm in permutations(remaining_chars):\n",
    "            result.append(first_char + perm)\n",
    "\n",
    "    return result\n",
    "\n",
    "\n",
    "# Example usage\n",
    "string = \"abc\"\n",
    "permutations_list = permutations(string)\n",
    "for perm in permutations_list:\n",
    "    print(perm)\n"
   ]
  },
  {
   "cell_type": "code",
   "execution_count": null,
   "id": "a078536e-e92a-4db8-bcc4-ece515d0bff3",
   "metadata": {},
   "outputs": [],
   "source": [
    "14. Implement a function to calculate the Fibonacci sequence up to a given number of terms.\n"
   ]
  },
  {
   "cell_type": "code",
   "execution_count": 25,
   "id": "320e39da-8c02-4d1a-af7f-83e4f4daaa4d",
   "metadata": {},
   "outputs": [],
   "source": [
    "def fibonacci_sequence(num_terms):\n",
    "    sequence = []\n",
    "    if num_terms <= 0:\n",
    "        return sequence\n",
    "    elif num_terms == 1:\n",
    "        sequence.append(0)\n",
    "    elif num_terms == 2:\n",
    "        sequence = [0, 1]\n",
    "    else:\n",
    "        sequence = [0, 1]\n",
    "        while len(sequence) < num_terms:\n",
    "            next_term = sequence[-1] + sequence[-2]\n",
    "            sequence.append(next_term)\n",
    "    return sequence\n"
   ]
  },
  {
   "cell_type": "code",
   "execution_count": 26,
   "id": "ba8ede91-2a13-4410-ab72-bd91232cad3a",
   "metadata": {},
   "outputs": [
    {
     "name": "stdout",
     "output_type": "stream",
     "text": [
      "[0, 1, 1, 2, 3, 5, 8, 13, 21, 34]\n"
     ]
    }
   ],
   "source": [
    "fib_sequence = fibonacci_sequence(10)\n",
    "print(fib_sequence)\n"
   ]
  },
  {
   "cell_type": "code",
   "execution_count": null,
   "id": "8ddd467c-8c5a-4eb1-9f42-fc1ef06e1998",
   "metadata": {},
   "outputs": [],
   "source": [
    "15. Write a program to find the median of a list of numbers.\n"
   ]
  },
  {
   "cell_type": "code",
   "execution_count": 27,
   "id": "7bc6312c-8dfd-4f9a-88b6-f328bb76acde",
   "metadata": {},
   "outputs": [
    {
     "name": "stdout",
     "output_type": "stream",
     "text": [
      "Median: 5\n"
     ]
    }
   ],
   "source": [
    "def find_median(numbers):\n",
    "    sorted_numbers = sorted(numbers)\n",
    "    length = len(sorted_numbers)\n",
    "    middle_index = length // 2\n",
    "\n",
    "    if length % 2 == 0:\n",
    "        median = (sorted_numbers[middle_index - 1] + sorted_numbers[middle_index]) / 2\n",
    "    else:\n",
    "        median = sorted_numbers[middle_index]\n",
    "\n",
    "    return median\n",
    "\n",
    "# Example usage\n",
    "number_list = [5, 9, 2, 8, 1, 6, 3]\n",
    "median_value = find_median(number_list)\n",
    "print(\"Median:\", median_value)\n"
   ]
  },
  {
   "cell_type": "code",
   "execution_count": null,
   "id": "e22ad9fb-782d-4867-8793-04b1552ed036",
   "metadata": {},
   "outputs": [],
   "source": [
    "16. Implement a function to check if a given list is sorted in non-decreasing order.\n"
   ]
  },
  {
   "cell_type": "code",
   "execution_count": 28,
   "id": "1080460d-142d-44c5-bbbb-3e021e74d8d3",
   "metadata": {},
   "outputs": [],
   "source": [
    "def is_sorted(lst):\n",
    "    for i in range(len(lst) - 1):\n",
    "        if lst[i] > lst[i + 1]:\n",
    "            return False\n",
    "    return True\n"
   ]
  },
  {
   "cell_type": "code",
   "execution_count": 29,
   "id": "34772310-2644-4f75-ab9c-989433b1b2ca",
   "metadata": {},
   "outputs": [
    {
     "name": "stdout",
     "output_type": "stream",
     "text": [
      "True\n",
      "False\n"
     ]
    }
   ],
   "source": [
    "my_list = [1, 2, 3, 4, 5]\n",
    "print(is_sorted(my_list))  # Output: True\n",
    "\n",
    "my_list = [1, 3, 2, 4, 5]\n",
    "print(is_sorted(my_list))  # Output: False\n"
   ]
  },
  {
   "cell_type": "code",
   "execution_count": null,
   "id": "afc32f31-70a2-48db-ab19-98a56e61597a",
   "metadata": {},
   "outputs": [],
   "source": [
    "17. Write a Python program to find the intersection of two lists.\n"
   ]
  },
  {
   "cell_type": "code",
   "execution_count": 30,
   "id": "28b98413-3bf5-4e1e-ab3a-297f541eb4c0",
   "metadata": {},
   "outputs": [
    {
     "name": "stdout",
     "output_type": "stream",
     "text": [
      "Intersection of list1 and list2: [4, 5]\n"
     ]
    }
   ],
   "source": [
    "def find_intersection(list1, list2):\n",
    "    set1 = set(list1)\n",
    "    set2 = set(list2)\n",
    "    intersection = set1.intersection(set2)\n",
    "    return list(intersection)\n",
    "\n",
    "# Example usage\n",
    "list1 = [1, 2, 3, 4, 5]\n",
    "list2 = [4, 5, 6, 7, 8]\n",
    "intersection_list = find_intersection(list1, list2)\n",
    "print(\"Intersection of list1 and list2:\", intersection_list)\n"
   ]
  },
  {
   "cell_type": "code",
   "execution_count": null,
   "id": "092581ac-c145-4192-bb9c-baf8aa1487db",
   "metadata": {},
   "outputs": [],
   "source": [
    "18. Implement a function to find the maximum subarray sum in a given list"
   ]
  },
  {
   "cell_type": "code",
   "execution_count": 31,
   "id": "f2970be0-6b18-4939-87f8-4a38368bb832",
   "metadata": {},
   "outputs": [],
   "source": [
    "def max_subarray_sum(arr):\n",
    "    max_sum = float('-inf')\n",
    "    current_sum = 0\n",
    "\n",
    "    for num in arr:\n",
    "        current_sum = max(num, current_sum + num)\n",
    "        max_sum = max(max_sum, current_sum)\n",
    "\n",
    "    return max_sum\n"
   ]
  },
  {
   "cell_type": "code",
   "execution_count": 32,
   "id": "b80842c5-6a4d-44ae-8fbc-41ec61237d7a",
   "metadata": {},
   "outputs": [
    {
     "name": "stdout",
     "output_type": "stream",
     "text": [
      "6\n"
     ]
    }
   ],
   "source": [
    "arr = [-2, 1, -3, 4, -1, 2, 1, -5, 4]\n",
    "max_sum = max_subarray_sum(arr)\n",
    "print(max_sum)  # Output: 6\n"
   ]
  },
  {
   "cell_type": "code",
   "execution_count": null,
   "id": "e0c83f61-fb03-47ba-92b6-0719e680756b",
   "metadata": {},
   "outputs": [],
   "source": [
    "19. Write a program to remove all vowels from a given string.\n"
   ]
  },
  {
   "cell_type": "code",
   "execution_count": 33,
   "id": "c5ef1a48-670e-48b8-bf90-b16f62c62605",
   "metadata": {},
   "outputs": [
    {
     "name": "stdout",
     "output_type": "stream",
     "text": [
      "Hll, Wrld!\n"
     ]
    }
   ],
   "source": [
    "def remove_vowels(string):\n",
    "    vowels = ['a', 'e', 'i', 'o', 'u', 'A', 'E', 'I', 'O', 'U']\n",
    "    result = \"\"\n",
    "    for char in string:\n",
    "        if char not in vowels:\n",
    "            result += char\n",
    "    return result\n",
    "\n",
    "# Example usage\n",
    "input_string = \"Hello, World!\"\n",
    "output_string = remove_vowels(input_string)\n",
    "print(output_string)  # Output: \"Hll, Wrld!\"\n"
   ]
  },
  {
   "cell_type": "code",
   "execution_count": null,
   "id": "d22ea0ae-0d5f-49db-b018-21911a103a7e",
   "metadata": {},
   "outputs": [],
   "source": [
    "20. Implement a function to reverse the order of words in a given sentence."
   ]
  },
  {
   "cell_type": "code",
   "execution_count": 34,
   "id": "eca8bda1-a132-4038-88bb-4070a3dc2d6c",
   "metadata": {},
   "outputs": [],
   "source": [
    "def reverse_words(sentence):\n",
    "    # Split the sentence into a list of words\n",
    "    words = sentence.split()\n",
    "\n",
    "    # Reverse the order of words using list slicing\n",
    "    reversed_words = words[::-1]\n",
    "\n",
    "    # Join the reversed words back into a sentence\n",
    "    reversed_sentence = \" \".join(reversed_words)\n",
    "\n",
    "    return reversed_sentence\n"
   ]
  },
  {
   "cell_type": "code",
   "execution_count": 35,
   "id": "7c0aaadb-8abb-48ed-84c8-f62f364636c6",
   "metadata": {},
   "outputs": [
    {
     "name": "stdout",
     "output_type": "stream",
     "text": [
      "you? are How world! Hello,\n"
     ]
    }
   ],
   "source": [
    "sentence = \"Hello, world! How are you?\"\n",
    "reversed_sentence = reverse_words(sentence)\n",
    "print(reversed_sentence)\n"
   ]
  },
  {
   "cell_type": "code",
   "execution_count": null,
   "id": "a887fcad-792a-48c3-b469-595b7b6b7bcc",
   "metadata": {},
   "outputs": [],
   "source": [
    "21. Write a Python program to check if two strings are anagrams of each other.\n"
   ]
  },
  {
   "cell_type": "code",
   "execution_count": 36,
   "id": "b245fe18-c755-4c0f-a183-f1dffeda1b86",
   "metadata": {},
   "outputs": [
    {
     "name": "stdout",
     "output_type": "stream",
     "text": [
      "listen and silent are anagrams.\n"
     ]
    }
   ],
   "source": [
    "def check_anagram(str1, str2):\n",
    "    # Remove whitespace and convert both strings to lowercase\n",
    "    str1 = str1.replace(\" \", \"\").lower()\n",
    "    str2 = str2.replace(\" \", \"\").lower()\n",
    "\n",
    "    # Check if the lengths of the strings are equal\n",
    "    if len(str1) != len(str2):\n",
    "        return False\n",
    "\n",
    "    # Create dictionaries to store the character frequencies\n",
    "    freq1 = {}\n",
    "    freq2 = {}\n",
    "\n",
    "    # Update the frequencies of characters in str1\n",
    "    for char in str1:\n",
    "        if char in freq1:\n",
    "            freq1[char] += 1\n",
    "        else:\n",
    "            freq1[char] = 1\n",
    "\n",
    "    # Update the frequencies of characters in str2\n",
    "    for char in str2:\n",
    "        if char in freq2:\n",
    "            freq2[char] += 1\n",
    "        else:\n",
    "            freq2[char] = 1\n",
    "\n",
    "    # Check if the frequencies of characters are the same\n",
    "    return freq1 == freq2\n",
    "\n",
    "# Test the function\n",
    "string1 = \"listen\"\n",
    "string2 = \"silent\"\n",
    "if check_anagram(string1, string2):\n",
    "    print(f\"{string1} and {string2} are anagrams.\")\n",
    "else:\n",
    "    print(f\"{string1} and {string2} are not anagrams.\")\n"
   ]
  },
  {
   "cell_type": "code",
   "execution_count": null,
   "id": "3f9a631d-04ed-4d7e-b4f4-bf0d09a04508",
   "metadata": {},
   "outputs": [],
   "source": [
    "22. Implement a function to find the first non-repeating character in a string.\n"
   ]
  },
  {
   "cell_type": "code",
   "execution_count": 37,
   "id": "3eec5133-9ad3-4dc6-9628-7d069949ca8e",
   "metadata": {},
   "outputs": [],
   "source": [
    "def find_first_non_repeating_character(string):\n",
    "    char_count = {}\n",
    "\n",
    "    # Count the occurrences of each character\n",
    "    for char in string:\n",
    "        if char in char_count:\n",
    "            char_count[char] += 1\n",
    "        else:\n",
    "            char_count[char] = 1\n",
    "\n",
    "    # Find the first character with count 1\n",
    "    for char in string:\n",
    "        if char_count[char] == 1:\n",
    "            return char\n",
    "\n",
    "    # If no non-repeating character found, return None\n",
    "    return None\n"
   ]
  },
  {
   "cell_type": "code",
   "execution_count": 38,
   "id": "0ea34bcc-6ddb-4cd8-abf8-cc6823286726",
   "metadata": {},
   "outputs": [
    {
     "name": "stdout",
     "output_type": "stream",
     "text": [
      "h\n"
     ]
    }
   ],
   "source": [
    "string = \"hello world\"\n",
    "result = find_first_non_repeating_character(string)\n",
    "print(result)  # Output: 'h'\n"
   ]
  },
  {
   "cell_type": "code",
   "execution_count": null,
   "id": "cd2ba9e1-2fa5-441b-8d0a-b426f184b3f1",
   "metadata": {},
   "outputs": [],
   "source": [
    "23. Write a program to find the prime factors of a given number."
   ]
  },
  {
   "cell_type": "code",
   "execution_count": 39,
   "id": "914d9b72-d6f2-4012-9a1d-ea33f985b168",
   "metadata": {},
   "outputs": [
    {
     "name": "stdin",
     "output_type": "stream",
     "text": [
      "Enter a number:  6\n"
     ]
    },
    {
     "name": "stdout",
     "output_type": "stream",
     "text": [
      "Prime factors of 6 are: [2, 3]\n"
     ]
    }
   ],
   "source": [
    "def find_prime_factors(number):\n",
    "    factors = []\n",
    "    divisor = 2\n",
    "\n",
    "    while divisor <= number:\n",
    "        if number % divisor == 0:\n",
    "            factors.append(divisor)\n",
    "            number = number / divisor\n",
    "        else:\n",
    "            divisor += 1\n",
    "\n",
    "    return factors\n",
    "\n",
    "# Example usage\n",
    "num = int(input(\"Enter a number: \"))\n",
    "prime_factors = find_prime_factors(num)\n",
    "print(\"Prime factors of\", num, \"are:\", prime_factors)\n"
   ]
  },
  {
   "cell_type": "code",
   "execution_count": null,
   "id": "78498d3f-a614-433b-8fc1-efda61f02ced",
   "metadata": {},
   "outputs": [],
   "source": [
    "24. Implement a function to check if a given number is a power of two.\n"
   ]
  },
  {
   "cell_type": "code",
   "execution_count": 40,
   "id": "7de87057-203b-464c-8b99-2636bd7ca450",
   "metadata": {},
   "outputs": [],
   "source": [
    "def is_power_of_two(number):\n",
    "    if number <= 0:\n",
    "        return False\n",
    "    return (number & (number - 1)) == 0\n"
   ]
  },
  {
   "cell_type": "code",
   "execution_count": 41,
   "id": "8bad1f53-e361-4439-bae5-f01617966c83",
   "metadata": {},
   "outputs": [
    {
     "name": "stdout",
     "output_type": "stream",
     "text": [
      "True\n",
      "False\n",
      "False\n",
      "True\n"
     ]
    }
   ],
   "source": [
    "print(is_power_of_two(8))  # Output: True\n",
    "print(is_power_of_two(6))  # Output: False\n",
    "print(is_power_of_two(0))  # Output: False\n",
    "print(is_power_of_two(16)) # Output: True\n"
   ]
  },
  {
   "cell_type": "code",
   "execution_count": null,
   "id": "2e997ede-750f-4aff-902b-4775cb130c1b",
   "metadata": {},
   "outputs": [],
   "source": [
    "25. Write a Python program to merge two sorted lists into a single sorted list.\n"
   ]
  },
  {
   "cell_type": "code",
   "execution_count": 42,
   "id": "94b8a913-5738-432a-8466-1a7431f43a03",
   "metadata": {},
   "outputs": [
    {
     "name": "stdout",
     "output_type": "stream",
     "text": [
      "[1, 2, 3, 4, 5, 6, 7, 8]\n"
     ]
    }
   ],
   "source": [
    "def merge_sorted_lists(list1, list2):\n",
    "    merged_list = []\n",
    "    i = j = 0\n",
    "\n",
    "    while i < len(list1) and j < len(list2):\n",
    "        if list1[i] < list2[j]:\n",
    "            merged_list.append(list1[i])\n",
    "            i += 1\n",
    "        else:\n",
    "            merged_list.append(list2[j])\n",
    "            j += 1\n",
    "\n",
    "    # Append remaining elements from list1\n",
    "    while i < len(list1):\n",
    "        merged_list.append(list1[i])\n",
    "        i += 1\n",
    "\n",
    "    # Append remaining elements from list2\n",
    "    while j < len(list2):\n",
    "        merged_list.append(list2[j])\n",
    "        j += 1\n",
    "\n",
    "    return merged_list\n",
    "\n",
    "\n",
    "# Example usage\n",
    "list1 = [1, 3, 5, 7]\n",
    "list2 = [2, 4, 6, 8]\n",
    "merged = merge_sorted_lists(list1, list2)\n",
    "print(merged)\n"
   ]
  },
  {
   "cell_type": "code",
   "execution_count": null,
   "id": "e624c6a6-c99e-4f12-9f71-b27602c438cb",
   "metadata": {},
   "outputs": [],
   "source": [
    "26. Implement a function to find the mode of a list of numbers.\n"
   ]
  },
  {
   "cell_type": "code",
   "execution_count": 43,
   "id": "b446983c-156e-4b88-a3aa-b6b3def40cd7",
   "metadata": {},
   "outputs": [],
   "source": [
    "from collections import Counter\n",
    "\n",
    "def find_mode(numbers):\n",
    "    # Count the occurrences of each number\n",
    "    counter = Counter(numbers)\n",
    "    \n",
    "    # Find the maximum frequency\n",
    "    max_freq = max(counter.values())\n",
    "    \n",
    "    # Find the numbers with the maximum frequency\n",
    "    mode = [num for num, freq in counter.items() if freq == max_freq]\n",
    "    \n",
    "    return mode\n"
   ]
  },
  {
   "cell_type": "code",
   "execution_count": 44,
   "id": "5952f72e-5475-4226-8770-1af2d1a42ed5",
   "metadata": {},
   "outputs": [
    {
     "name": "stdout",
     "output_type": "stream",
     "text": [
      "[2]\n"
     ]
    }
   ],
   "source": [
    "numbers = [1, 2, 3, 2, 4, 3, 2, 1, 5, 2, 6, 2]\n",
    "result = find_mode(numbers)\n",
    "print(result)  # Output: [2]\n"
   ]
  },
  {
   "cell_type": "code",
   "execution_count": null,
   "id": "6dd05c45-a3fe-454f-aafe-1a2ce9379a0b",
   "metadata": {},
   "outputs": [],
   "source": [
    "27. Write a program to find the greatest common divisor (GCD) of two numbers.\n"
   ]
  },
  {
   "cell_type": "code",
   "execution_count": 45,
   "id": "0861e719-4ffa-4804-b8b7-80887f54ee08",
   "metadata": {},
   "outputs": [
    {
     "name": "stdin",
     "output_type": "stream",
     "text": [
      "Enter the first number:  9\n",
      "Enter the second number:  18\n"
     ]
    },
    {
     "name": "stdout",
     "output_type": "stream",
     "text": [
      "The GCD of 9 and 18 is: 9\n"
     ]
    }
   ],
   "source": [
    "def gcd(a, b):\n",
    "    while b != 0:\n",
    "        a, b = b, a % b\n",
    "    return a\n",
    "\n",
    "# Example usage:\n",
    "num1 = int(input(\"Enter the first number: \"))\n",
    "num2 = int(input(\"Enter the second number: \"))\n",
    "\n",
    "result = gcd(num1, num2)\n",
    "print(\"The GCD of\", num1, \"and\", num2, \"is:\", result)\n"
   ]
  },
  {
   "cell_type": "code",
   "execution_count": null,
   "id": "93cb5bed-a58e-4ca8-8c5e-11f6db0c1e30",
   "metadata": {},
   "outputs": [],
   "source": [
    "28. Implement a function to calculate the square root of a given number.\n"
   ]
  },
  {
   "cell_type": "code",
   "execution_count": 46,
   "id": "506b25ab-b03a-4f81-9544-b0d99dabd075",
   "metadata": {},
   "outputs": [],
   "source": [
    "def square_root(number, epsilon=1e-6):\n",
    "    if number < 0:\n",
    "        raise ValueError(\"Square root is not defined for negative numbers.\")\n",
    "    \n",
    "    guess = number / 2  # Initial guess\n",
    "    \n",
    "    while True:\n",
    "        difference = guess ** 2 - number  # Calculate the difference between the guess squared and the number\n",
    "        if abs(difference) <= epsilon:  # Check if the difference is within the desired accuracy\n",
    "            return guess\n",
    "        guess = (guess + number / guess) / 2  # Update the guess using the Newton's method\n",
    "\n"
   ]
  },
  {
   "cell_type": "code",
   "execution_count": 49,
   "id": "2d1c64bc-6083-4648-b7ee-886479f6c1d1",
   "metadata": {},
   "outputs": [
    {
     "name": "stdout",
     "output_type": "stream",
     "text": [
      "4.000000000000004\n",
      "1.4142135623746899\n",
      "0.0\n",
      "3.0000000000393214\n"
     ]
    }
   ],
   "source": [
    "result = square_root(16)\n",
    "print(result)  # Output: 4.0\n",
    "\n",
    "result = square_root(2)\n",
    "print(result)  # Output: 1.4142135623746899\n",
    "\n",
    "result = square_root(0)\n",
    "print(result)  # Output: 0.0\n",
    "\n",
    "result = square_root(9)\n",
    "# This will raise a ValueError\n",
    "print(result)"
   ]
  },
  {
   "cell_type": "code",
   "execution_count": null,
   "id": "76c4153e-3399-4a4a-88e9-2bad225aab5b",
   "metadata": {},
   "outputs": [],
   "source": [
    "29. Write a Python program to check if a given string is a valid palindrome ignoring non-alphanumeric characters."
   ]
  },
  {
   "cell_type": "code",
   "execution_count": 50,
   "id": "69f4c27d-40db-41f6-8c9a-29b05befb87b",
   "metadata": {},
   "outputs": [
    {
     "name": "stdin",
     "output_type": "stream",
     "text": [
      "Enter a string:  Ajit\n"
     ]
    },
    {
     "name": "stdout",
     "output_type": "stream",
     "text": [
      "The string is not a valid palindrome.\n"
     ]
    }
   ],
   "source": [
    "import re\n",
    "\n",
    "def is_valid_palindrome(string):\n",
    "    # Remove non-alphanumeric characters\n",
    "    alphanumeric_string = re.sub(r'[^a-zA-Z0-9]', '', string)\n",
    "    \n",
    "    # Convert the string to lowercase\n",
    "    lowercase_string = alphanumeric_string.lower()\n",
    "    \n",
    "    # Check if the lowercase string is equal to its reverse\n",
    "    return lowercase_string == lowercase_string[::-1]\n",
    "\n",
    "# Test the function\n",
    "input_string = input(\"Enter a string: \")\n",
    "if is_valid_palindrome(input_string):\n",
    "    print(\"The string is a valid palindrome.\")\n",
    "else:\n",
    "    print(\"The string is not a valid palindrome.\")\n"
   ]
  },
  {
   "cell_type": "code",
   "execution_count": null,
   "id": "b4698573-4e22-4d2c-8be1-ae43802ab96a",
   "metadata": {},
   "outputs": [],
   "source": [
    "30. Implement a function to find the minimum element in a rotated sorted list.\n"
   ]
  },
  {
   "cell_type": "code",
   "execution_count": 52,
   "id": "9925198f-aae2-4f09-9bf3-13757a57ae56",
   "metadata": {},
   "outputs": [
    {
     "name": "stdout",
     "output_type": "stream",
     "text": [
      "1\n"
     ]
    }
   ],
   "source": [
    "def find_min_element(nums):\n",
    "    left = 0\n",
    "    right = len(nums) - 1\n",
    "\n",
    "    while left < right:\n",
    "        mid = left + (right - left) // 2\n",
    "\n",
    "        # If mid element is greater than the rightmost element,\n",
    "        # the minimum element must be in the right half of the list.\n",
    "        if nums[mid] > nums[right]:\n",
    "            left = mid + 1\n",
    "\n",
    "        # If mid element is smaller than the rightmost element,\n",
    "        # the minimum element must be in the left half of the list,\n",
    "        # including the mid element.\n",
    "        elif nums[mid] < nums[right]:\n",
    "            right = mid\n",
    "\n",
    "        # If mid element is equal to the rightmost element,\n",
    "        # we can't determine which side the minimum element is.\n",
    "        # However, we can safely exclude the rightmost element\n",
    "        # and continue the search.\n",
    "        else:\n",
    "            right -= 1\n",
    "\n",
    "    # At the end of the loop, left and right will converge\n",
    "    # to the index of the minimum element.\n",
    "    return nums[left]\n",
    "\n",
    "# Example usage:\n",
    "nums = [4, 5, 6, 7, 9, 1, 2]\n",
    "print(find_min_element(nums))  # Output: 0\n"
   ]
  },
  {
   "cell_type": "code",
   "execution_count": null,
   "id": "45e38f43-19eb-458d-84b7-1c9b9b1546eb",
   "metadata": {},
   "outputs": [],
   "source": [
    "31. Write a program to find the sum of all even numbers in a list."
   ]
  },
  {
   "cell_type": "code",
   "execution_count": 53,
   "id": "6338eb02-458d-4ff6-9092-11435595bd6f",
   "metadata": {},
   "outputs": [
    {
     "name": "stdout",
     "output_type": "stream",
     "text": [
      "Sum of even numbers: 30\n"
     ]
    }
   ],
   "source": [
    "def sum_of_even_numbers(numbers):\n",
    "    sum_even = 0\n",
    "\n",
    "    for num in numbers:\n",
    "        if num % 2 == 0:\n",
    "            sum_even += num\n",
    "\n",
    "    return sum_even\n",
    "\n",
    "\n",
    "# Example usage:\n",
    "my_list = [1, 2, 3, 4, 5, 6, 7, 8, 9, 10]\n",
    "result = sum_of_even_numbers(my_list)\n",
    "print(\"Sum of even numbers:\", result)\n"
   ]
  },
  {
   "cell_type": "code",
   "execution_count": null,
   "id": "32301159-c46d-41c0-88fe-27a14456e42a",
   "metadata": {},
   "outputs": [],
   "source": [
    "32. Implement a function to calculate the power of a number using recursion.\n"
   ]
  },
  {
   "cell_type": "code",
   "execution_count": 54,
   "id": "4a7504d7-ddb7-4206-a782-dd10bddab663",
   "metadata": {},
   "outputs": [],
   "source": [
    "def power(base, exponent):\n",
    "    # Base case: any number raised to the power of 0 is 1\n",
    "    if exponent == 0:\n",
    "        return 1\n",
    "\n",
    "    # Recursive case: multiply the base by the result of the function with a reduced exponent\n",
    "    return base * power(base, exponent - 1)\n"
   ]
  },
  {
   "cell_type": "code",
   "execution_count": 55,
   "id": "ae859a5f-3472-41a9-95c1-8a85183bddff",
   "metadata": {},
   "outputs": [
    {
     "name": "stdout",
     "output_type": "stream",
     "text": [
      "8\n"
     ]
    }
   ],
   "source": [
    "result = power(2, 3)\n",
    "print(result)  # Output: 8\n"
   ]
  },
  {
   "cell_type": "code",
   "execution_count": null,
   "id": "36270899-fce3-4245-8b8f-0298320b01ee",
   "metadata": {},
   "outputs": [],
   "source": [
    "33. Write a Python program to remove duplicates from a list while preserving the order.\n"
   ]
  },
  {
   "cell_type": "code",
   "execution_count": 56,
   "id": "1af4400c-7fce-4aa9-98ff-aa54df48a792",
   "metadata": {},
   "outputs": [
    {
     "name": "stdout",
     "output_type": "stream",
     "text": [
      "[1, 2, 3, 4, 5, 6]\n"
     ]
    }
   ],
   "source": [
    "def remove_duplicates(lst):\n",
    "    # Create an empty list to store the unique elements\n",
    "    unique_list = []\n",
    "\n",
    "    # Iterate over the original list\n",
    "    for item in lst:\n",
    "        # If the item is not already in the unique list, add it\n",
    "        if item not in unique_list:\n",
    "            unique_list.append(item)\n",
    "\n",
    "    return unique_list\n",
    "\n",
    "# Example usage\n",
    "my_list = [1, 2, 3, 2, 4, 3, 5, 6, 4]\n",
    "result = remove_duplicates(my_list)\n",
    "print(result)  # Output: [1, 2, 3, 4, 5, 6]\n"
   ]
  },
  {
   "cell_type": "code",
   "execution_count": null,
   "id": "439e591c-be2f-4200-be68-b7eafb1750a7",
   "metadata": {},
   "outputs": [],
   "source": [
    "34. Implement a function to find the longest common prefix among a list of strings.\n"
   ]
  },
  {
   "cell_type": "code",
   "execution_count": 57,
   "id": "072a7866-2d58-499f-9b4d-ea10a8959bc0",
   "metadata": {},
   "outputs": [],
   "source": [
    "def longest_common_prefix(strs):\n",
    "    if not strs:\n",
    "        return \"\"\n",
    "\n",
    "    # Sort the list of strings to easily find the shortest and longest strings\n",
    "    strs.sort()\n",
    "\n",
    "    # Find the common prefix between the first and last strings in the sorted list\n",
    "    prefix = \"\"\n",
    "    for i in range(len(strs[0])):\n",
    "        if strs[0][i] == strs[-1][i]:\n",
    "            prefix += strs[0][i]\n",
    "        else:\n",
    "            break\n",
    "\n",
    "    return prefix\n"
   ]
  },
  {
   "cell_type": "code",
   "execution_count": 58,
   "id": "fd3a62c0-036e-4e91-a263-f09ffd116141",
   "metadata": {},
   "outputs": [
    {
     "name": "stdout",
     "output_type": "stream",
     "text": [
      "fl\n"
     ]
    }
   ],
   "source": [
    "strings = [\"flower\", \"flow\", \"flight\"]\n",
    "print(longest_common_prefix(strings))\n"
   ]
  },
  {
   "cell_type": "code",
   "execution_count": null,
   "id": "98143372-5b54-4e4b-a2df-62cf75565732",
   "metadata": {},
   "outputs": [],
   "source": [
    "35. Write a program to check if a given number is a perfect square.\n"
   ]
  },
  {
   "cell_type": "code",
   "execution_count": 59,
   "id": "9c4aa03b-d81e-48fb-9a16-af309ed26956",
   "metadata": {},
   "outputs": [
    {
     "name": "stdin",
     "output_type": "stream",
     "text": [
      "Enter a number:  25\n"
     ]
    },
    {
     "name": "stdout",
     "output_type": "stream",
     "text": [
      "25 is a perfect square.\n"
     ]
    }
   ],
   "source": [
    "def is_perfect_square(number):\n",
    "    if number < 0:\n",
    "        return False  # Negative numbers are not perfect squares\n",
    "\n",
    "    if number == 0:\n",
    "        return True  # Zero is a perfect square\n",
    "\n",
    "    # Use the Babylonian method to approximate the square root\n",
    "    guess = number\n",
    "    while True:\n",
    "        previous_guess = guess\n",
    "        guess = (guess + number // guess) // 2\n",
    "        if previous_guess == guess:\n",
    "            break\n",
    "\n",
    "    # Check if the square of the guess is equal to the number\n",
    "    return guess * guess == number\n",
    "\n",
    "# Test the function\n",
    "num = int(input(\"Enter a number: \"))\n",
    "if is_perfect_square(num):\n",
    "    print(f\"{num} is a perfect square.\")\n",
    "else:\n",
    "    print(f\"{num} is not a perfect square.\")\n"
   ]
  },
  {
   "cell_type": "code",
   "execution_count": null,
   "id": "75dc0b4d-4aba-4850-8a3c-25b8d41b42dc",
   "metadata": {},
   "outputs": [],
   "source": [
    "36. Implement a function to calculate the product of all elements in a list.\n"
   ]
  },
  {
   "cell_type": "code",
   "execution_count": 60,
   "id": "6f8668b7-97a9-4353-a04c-6c58fe76d922",
   "metadata": {},
   "outputs": [],
   "source": [
    "def calculate_product(lst):\n",
    "    product = 1\n",
    "    for num in lst:\n",
    "        product *= num\n",
    "    return product\n"
   ]
  },
  {
   "cell_type": "code",
   "execution_count": 61,
   "id": "8cf3a372-a321-418e-aa57-3b4a1e5cd4e5",
   "metadata": {},
   "outputs": [
    {
     "name": "stdout",
     "output_type": "stream",
     "text": [
      "384\n"
     ]
    }
   ],
   "source": [
    "my_list = [2, 4, 6, 8]\n",
    "result = calculate_product(my_list)\n",
    "print(result)  # Output: 384\n"
   ]
  },
  {
   "cell_type": "code",
   "execution_count": null,
   "id": "0bf35249-3978-4194-ac65-7cc59b85ac47",
   "metadata": {},
   "outputs": [],
   "source": [
    "37. Write a Python program to reverse the order of words in a sentence while preserving the word order.\n"
   ]
  },
  {
   "cell_type": "code",
   "execution_count": 62,
   "id": "a9ed5b25-7e20-4538-adf4-f131a942ade7",
   "metadata": {},
   "outputs": [
    {
     "name": "stdout",
     "output_type": "stream",
     "text": [
      "sentence sample a is This\n"
     ]
    }
   ],
   "source": [
    "def reverse_words(sentence):\n",
    "    words = sentence.split()\n",
    "    reversed_sentence = ' '.join(words[::-1])\n",
    "    return reversed_sentence\n",
    "\n",
    "# Example usage\n",
    "input_sentence = \"This is a sample sentence\"\n",
    "reversed_sentence = reverse_words(input_sentence)\n",
    "print(reversed_sentence)\n"
   ]
  },
  {
   "cell_type": "code",
   "execution_count": null,
   "id": "44e33030-8685-4ce6-8772-9f61d6c22ed6",
   "metadata": {},
   "outputs": [],
   "source": [
    "38. Implement a function to find the missing number in a given list of consecutive numbers."
   ]
  },
  {
   "cell_type": "code",
   "execution_count": 63,
   "id": "a963ae0a-287b-460c-8e64-57d4b9b90027",
   "metadata": {},
   "outputs": [],
   "source": [
    "def find_missing_number(numbers):\n",
    "    n = len(numbers) + 1  # Total number of elements including the missing one\n",
    "    expected_sum = (n * (numbers[0] + numbers[-1])) // 2\n",
    "    actual_sum = sum(numbers)\n",
    "    missing_number = expected_sum - actual_sum\n",
    "    return missing_number\n"
   ]
  },
  {
   "cell_type": "code",
   "execution_count": 64,
   "id": "30ef0932-33fa-4036-ad79-4443612e2506",
   "metadata": {},
   "outputs": [
    {
     "name": "stdout",
     "output_type": "stream",
     "text": [
      "Missing number: 4\n"
     ]
    }
   ],
   "source": [
    "numbers = [1, 2, 3, 5, 6, 7, 8]\n",
    "missing_number = find_missing_number(numbers)\n",
    "print(\"Missing number:\", missing_number)\n"
   ]
  },
  {
   "cell_type": "code",
   "execution_count": null,
   "id": "0c6e2a08-81b2-4f3b-9f07-929e0558ed9c",
   "metadata": {},
   "outputs": [],
   "source": [
    "39. Write a program to find the sum of digits of a given number.\n"
   ]
  },
  {
   "cell_type": "code",
   "execution_count": 65,
   "id": "18434831-cbf1-427d-a90b-4094cf0f26f7",
   "metadata": {},
   "outputs": [
    {
     "name": "stdin",
     "output_type": "stream",
     "text": [
      "Enter a number:  56\n"
     ]
    },
    {
     "name": "stdout",
     "output_type": "stream",
     "text": [
      "Sum of digits: 11\n"
     ]
    }
   ],
   "source": [
    "def sum_of_digits(number):\n",
    "    # Initialize the sum to 0\n",
    "    digit_sum = 0\n",
    "\n",
    "    # Convert the number to a string\n",
    "    number_str = str(number)\n",
    "\n",
    "    # Iterate over each character in the string\n",
    "    for digit_char in number_str:\n",
    "        # Convert the character back to an integer\n",
    "        digit = int(digit_char)\n",
    "        \n",
    "        # Add the digit to the sum\n",
    "        digit_sum += digit\n",
    "\n",
    "    return digit_sum\n",
    "\n",
    "# Test the function\n",
    "num = int(input(\"Enter a number: \"))\n",
    "result = sum_of_digits(num)\n",
    "print(\"Sum of digits:\", result)\n"
   ]
  },
  {
   "cell_type": "code",
   "execution_count": null,
   "id": "905a717f-322d-4bdd-84df-9904be04dcf8",
   "metadata": {},
   "outputs": [],
   "source": [
    "40. Implement a function to check if a given string is a valid palindrome considering case sensitivity.\n"
   ]
  },
  {
   "cell_type": "code",
   "execution_count": 66,
   "id": "80844c5c-a681-4fdd-8cea-67f99e2cd4d5",
   "metadata": {},
   "outputs": [],
   "source": [
    "def is_valid_palindrome(s):\n",
    "    # Remove any non-alphanumeric characters from the string and convert it to lowercase\n",
    "    s = ''.join(ch.lower() for ch in s if ch.isalnum())\n",
    "\n",
    "    # Check if the reversed string is equal to the original string\n",
    "    return s == s[::-1]\n"
   ]
  },
  {
   "cell_type": "code",
   "execution_count": 67,
   "id": "2f782cf6-a0bf-4786-8310-8cf423043260",
   "metadata": {},
   "outputs": [
    {
     "name": "stdout",
     "output_type": "stream",
     "text": [
      "True\n",
      "True\n",
      "False\n",
      "True\n"
     ]
    }
   ],
   "source": [
    "print(is_valid_palindrome(\"A man, a plan, a canal: Panama\"))  # True\n",
    "print(is_valid_palindrome(\"racecar\"))  # True\n",
    "print(is_valid_palindrome(\"hello\"))  # False\n",
    "print(is_valid_palindrome(\"No 'x' in Nixon\"))  # False\n"
   ]
  },
  {
   "cell_type": "code",
   "execution_count": null,
   "id": "a4b012ec-c186-4a67-9d3a-789d19593f11",
   "metadata": {},
   "outputs": [],
   "source": [
    "41. Write a Python program to find the smallest missing positive integer in a list.\n"
   ]
  },
  {
   "cell_type": "code",
   "execution_count": 1,
   "id": "4dbfedd2-d8df-4abb-b943-88fc563de608",
   "metadata": {},
   "outputs": [
    {
     "name": "stdout",
     "output_type": "stream",
     "text": [
      "The smallest missing positive integer is: 2\n"
     ]
    }
   ],
   "source": [
    "def find_smallest_missing_positive(nums):\n",
    "    # Move all non-positive integers to the left side of the list\n",
    "    n = len(nums)\n",
    "    i = 0\n",
    "    while i < n:\n",
    "        if 0 < nums[i] <= n and nums[nums[i] - 1] != nums[i]:\n",
    "            # Swap the current number to its correct position\n",
    "            nums[nums[i] - 1], nums[i] = nums[i], nums[nums[i] - 1]\n",
    "        else:\n",
    "            i += 1\n",
    "\n",
    "    # Find the first index where the value is not equal to the index + 1\n",
    "    for i in range(n):\n",
    "        if nums[i] != i + 1:\n",
    "            return i + 1\n",
    "\n",
    "    # If all positive integers are present, the smallest missing integer is n + 1\n",
    "    return n + 1\n",
    "\n",
    "# Test the function\n",
    "numbers = [3, 4, -1, 1]\n",
    "smallest_missing = find_smallest_missing_positive(numbers)\n",
    "print(\"The smallest missing positive integer is:\", smallest_missing)\n"
   ]
  },
  {
   "cell_type": "code",
   "execution_count": null,
   "id": "06b83584-efb0-4c91-a816-e0515018d8c0",
   "metadata": {},
   "outputs": [],
   "source": [
    "42. Implement a function to find the longest palindrome substring in a given string.\n"
   ]
  },
  {
   "cell_type": "code",
   "execution_count": 2,
   "id": "235bc5dd-ab3e-4a25-85e3-b9483e122801",
   "metadata": {},
   "outputs": [],
   "source": [
    "def longest_palindrome(s):\n",
    "    if len(s) < 2:\n",
    "        return s\n",
    "\n",
    "    start = 0\n",
    "    end = 0\n",
    "\n",
    "    for i in range(len(s)):\n",
    "        len1 = expand_around_center(s, i, i)  # Odd length palindrome\n",
    "        len2 = expand_around_center(s, i, i + 1)  # Even length palindrome\n",
    "        length = max(len1, len2)\n",
    "\n",
    "        if length > end - start:\n",
    "            start = i - (length - 1) // 2\n",
    "            end = i + length // 2\n",
    "\n",
    "    return s[start:end+1]\n",
    "\n",
    "\n",
    "def expand_around_center(s, left, right):\n",
    "    while left >= 0 and right < len(s) and s[left] == s[right]:\n",
    "        left -= 1\n",
    "        right += 1\n",
    "\n",
    "    return right - left - 1\n"
   ]
  },
  {
   "cell_type": "code",
   "execution_count": 3,
   "id": "a5b14dc1-24ef-41e8-b235-b405ec266d42",
   "metadata": {},
   "outputs": [
    {
     "name": "stdout",
     "output_type": "stream",
     "text": [
      "aba\n"
     ]
    }
   ],
   "source": [
    "string = \"babad\"\n",
    "result = longest_palindrome(string)\n",
    "print(result)  # Output: \"bab\"\n"
   ]
  },
  {
   "cell_type": "code",
   "execution_count": null,
   "id": "9194fd8f-7240-4f6b-a26f-95348ae3e5bc",
   "metadata": {},
   "outputs": [],
   "source": [
    "43. Write a program to find the number of occurrences of a given element in a list.\n"
   ]
  },
  {
   "cell_type": "code",
   "execution_count": 4,
   "id": "524d935f-e0e5-4247-aa3f-25514fdde188",
   "metadata": {},
   "outputs": [
    {
     "name": "stdout",
     "output_type": "stream",
     "text": [
      "The element 2 appears 4 times in the list.\n"
     ]
    }
   ],
   "source": [
    "def count_occurrences(lst, element):\n",
    "    count = 0\n",
    "    for item in lst:\n",
    "        if item == element:\n",
    "            count += 1\n",
    "    return count\n",
    "\n",
    "# Example usage\n",
    "my_list = [1, 2, 3, 4, 2, 2, 5, 6, 2]\n",
    "target_element = 2\n",
    "\n",
    "occurrences = count_occurrences(my_list, target_element)\n",
    "print(f\"The element {target_element} appears {occurrences} times in the list.\")\n"
   ]
  },
  {
   "cell_type": "code",
   "execution_count": null,
   "id": "9e4c60b4-4b73-4afa-bfd2-129e129f0f1c",
   "metadata": {},
   "outputs": [],
   "source": [
    "44. Implement a function to check if a given number is a perfect number."
   ]
  },
  {
   "cell_type": "code",
   "execution_count": 5,
   "id": "874f556e-b473-40ba-a4d6-e39b2f21b525",
   "metadata": {},
   "outputs": [],
   "source": [
    "def is_perfect_number(num):\n",
    "    if num <= 0:\n",
    "        return False\n",
    "\n",
    "    divisors_sum = 0\n",
    "    for i in range(1, num):\n",
    "        if num % i == 0:\n",
    "            divisors_sum += i\n",
    "\n",
    "    return divisors_sum == num\n"
   ]
  },
  {
   "cell_type": "code",
   "execution_count": 6,
   "id": "297f0e66-d7b1-4ec5-b923-db49c6452420",
   "metadata": {},
   "outputs": [
    {
     "name": "stdout",
     "output_type": "stream",
     "text": [
      "True\n",
      "True\n",
      "False\n"
     ]
    }
   ],
   "source": [
    "print(is_perfect_number(6))  # Output: True\n",
    "print(is_perfect_number(28))  # Output: True\n",
    "print(is_perfect_number(12))  # Output: False\n"
   ]
  },
  {
   "cell_type": "code",
   "execution_count": null,
   "id": "77ee4615-d696-47d6-9c86-6a65831591cf",
   "metadata": {},
   "outputs": [],
   "source": [
    "45. Write a Python program to remove all duplicates from a string.\n"
   ]
  },
  {
   "cell_type": "code",
   "execution_count": 7,
   "id": "d220086a-258c-4067-9dcd-163efc4106da",
   "metadata": {},
   "outputs": [],
   "source": [
    "def remove_duplicates(string):\n",
    "    # Create an empty set to store unique characters\n",
    "    unique_chars = set()\n",
    "\n",
    "    # Create an empty string to store the result\n",
    "    result = ''\n",
    "\n",
    "    # Iterate through each character in the string\n",
    "    for char in string:\n",
    "        # Check if the character is already in the set of unique characters\n",
    "        if char not in unique_chars:\n",
    "            # If it's not a duplicate, add it to the result string and the set\n",
    "            result += char\n",
    "            unique_chars.add(char)\n",
    "\n",
    "    return result\n"
   ]
  },
  {
   "cell_type": "code",
   "execution_count": 8,
   "id": "05bc2e01-68e6-4afb-9ffe-4b0bc7744546",
   "metadata": {},
   "outputs": [
    {
     "name": "stdout",
     "output_type": "stream",
     "text": [
      "Helo, wrd!\n",
      "abcd\n"
     ]
    }
   ],
   "source": [
    "input_string = \"Hello, world!\"\n",
    "print(remove_duplicates(input_string))  # Output: Helo, wrd!\n",
    "\n",
    "input_string = \"aabbbcccdd\"\n",
    "print(remove_duplicates(input_string))  # Output: abcd\n"
   ]
  },
  {
   "cell_type": "code",
   "execution_count": null,
   "id": "5e781d9b-31c7-41d2-b1dd-ecbbfa416c75",
   "metadata": {},
   "outputs": [],
   "source": [
    "46. Implement a function to find the first missing positive\n"
   ]
  },
  {
   "cell_type": "code",
   "execution_count": 11,
   "id": "11c287fe-c242-4b6c-8e79-df66292b89b7",
   "metadata": {},
   "outputs": [],
   "source": [
    "def find_first_missing_positive(nums):\n",
    "    # Separate positive numbers from non-positive numbers\n",
    "    positive_nums = [num for num in nums if num > 0]\n",
    "    \n",
    "    n = len(positive_nums)\n",
    "\n",
    "    # Mark positive numbers found in the list by negating their respective indices\n",
    "    for i in range(n):\n",
    "        num = abs(positive_nums[i])\n",
    "        if num <= n:\n",
    "            positive_nums[num - 1] = -abs(positive_nums[num - 1])\n",
    "\n",
    "    # Check the first positive number that is not marked (positive) and return its index\n",
    "    for i in range(n):\n",
    "        if positive_nums[i] > 0:\n",
    "            return i + 1\n",
    "\n",
    "    # If all positive numbers are found, return the next positive number\n",
    "    return n + 1\n"
   ]
  },
  {
   "cell_type": "code",
   "execution_count": 12,
   "id": "e8cf1849-fc08-4238-b82c-bc4fce1a9170",
   "metadata": {},
   "outputs": [
    {
     "name": "stdout",
     "output_type": "stream",
     "text": [
      "2\n"
     ]
    }
   ],
   "source": [
    "nums = [3, 4, -1, 1]\n",
    "missing_positive = find_first_missing_positive(nums)\n",
    "print(missing_positive)\n"
   ]
  },
  {
   "cell_type": "code",
   "execution_count": null,
   "id": "8b178b46-56e0-4835-8e0f-046a6c60ca36",
   "metadata": {},
   "outputs": [],
   "source": []
  }
 ],
 "metadata": {
  "kernelspec": {
   "display_name": "Python 3 (ipykernel)",
   "language": "python",
   "name": "python3"
  },
  "language_info": {
   "codemirror_mode": {
    "name": "ipython",
    "version": 3
   },
   "file_extension": ".py",
   "mimetype": "text/x-python",
   "name": "python",
   "nbconvert_exporter": "python",
   "pygments_lexer": "ipython3",
   "version": "3.10.8"
  }
 },
 "nbformat": 4,
 "nbformat_minor": 5
}
